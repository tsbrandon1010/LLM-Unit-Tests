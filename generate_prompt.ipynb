{
 "cells": [
  {
   "cell_type": "code",
   "execution_count": 1,
   "metadata": {},
   "outputs": [],
   "source": [
    "import json\n",
    "\n",
    "\n",
    "with open('functions.py') as f:\n",
    "    lines = f.readlines()\n",
    "\n",
    "\n",
    "functions = [[] for line in lines if line == \"#NF\\n\"]\n",
    "\n",
    "counter = -1\n",
    "for line in lines:\n",
    "    if line == \"#NF\\n\":\n",
    "        counter += 1\n",
    "        continue\n",
    "\n",
    "    functions[counter].append(line)\n",
    "\n",
    "for i in range(len(functions)):\n",
    "    functions[i] = ' '.join(functions[i])\n",
    "\n",
    "data = {\"data\": functions}\n",
    "\n",
    "with open('functions.json', 'w') as f:\n",
    "    json.dump(data, f)"
   ]
  },
  {
   "cell_type": "code",
   "execution_count": 2,
   "metadata": {},
   "outputs": [
    {
     "name": "stdout",
     "output_type": "stream",
     "text": [
      "\n",
      "\n",
      "Write a unit test for the following function. Aim for 100% coverage: \n",
      "\n",
      "import math\n",
      " def is_prime(num: int) -> bool:\n",
      "     '''Check if a number (num) is prime or not.'''\n",
      "     for i in range(2,int(math.sqrt(num))+1):\n",
      "         if num%i==0:\n",
      "             return False\n",
      "     return True\n",
      " \n",
      " '''\n",
      " Usage:\n",
      " \n",
      " print(is_prime(3))\n",
      " > True\n",
      " \n",
      " print(is_prime(10))\n",
      " > False\n",
      " \n",
      " '''\n",
      " \n",
      "\n"
     ]
    }
   ],
   "source": [
    "import json\n",
    "\n",
    "with open('functions.json', 'r') as f:\n",
    "    function = json.load(f)\n",
    "\n",
    "prompt = f\"\"\"\n",
    "\n",
    "Write a unit test for the following function. Aim for 100% coverage: \n",
    "\n",
    "{function['data'][0]}\"\"\"\n",
    "\n",
    "print(prompt)"
   ]
  },
  {
   "cell_type": "code",
   "execution_count": 5,
   "metadata": {},
   "outputs": [],
   "source": [
    "import openai\n",
    "import time\n",
    "import os\n",
    "from dotenv import load_dotenv\n",
    "load_dotenv()\n",
    "\n",
    "openai.api_key = os.getenv('OPENAI_API_KEY')\n",
    "\n",
    "response = openai.ChatCompletion.create(\n",
    "    model=\"gpt-3.5-turbo\",\n",
    "    messages=[{\"role\": \"user\", \"content\": prompt}]\n",
    ")\n",
    "\n",
    "with open(f'{time.strftime(\"%Y%m%d-%H%M%S\")}.json', 'w') as f:\n",
    "    json.dump(response, f)"
   ]
  }
 ],
 "metadata": {
  "kernelspec": {
   "display_name": "Python 3",
   "language": "python",
   "name": "python3"
  },
  "language_info": {
   "codemirror_mode": {
    "name": "ipython",
    "version": 3
   },
   "file_extension": ".py",
   "mimetype": "text/x-python",
   "name": "python",
   "nbconvert_exporter": "python",
   "pygments_lexer": "ipython3",
   "version": "3.10.8"
  },
  "orig_nbformat": 4
 },
 "nbformat": 4,
 "nbformat_minor": 2
}
